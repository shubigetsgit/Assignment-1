{
 "cells": [
  {
   "cell_type": "code",
   "execution_count": 1,
   "id": "c771f957",
   "metadata": {},
   "outputs": [
    {
     "name": "stdout",
     "output_type": "stream",
     "text": [
      "The number of Even numbers in series are  4\n",
      "The number of Odd numbers in series are  5\n"
     ]
    }
   ],
   "source": [
    "numbers = (1, 2, 3, 4, 5, 6, 7, 8, 9)\n",
    "even = 0 \n",
    "odd = 0 \n",
    "for i in numbers:\n",
    "    if i%2 == 0 :\n",
    "        even+=1\n",
    "    elif i%2 != 0 :\n",
    "        odd+=1\n",
    "print(\"The number of Even numbers in series are \",even)\n",
    "print(\"The number of Odd numbers in series are \",odd)\n"
   ]
  },
  {
   "cell_type": "code",
   "execution_count": null,
   "id": "647a3cf6",
   "metadata": {},
   "outputs": [],
   "source": []
  }
 ],
 "metadata": {
  "kernelspec": {
   "display_name": "Python 3 (ipykernel)",
   "language": "python",
   "name": "python3"
  },
  "language_info": {
   "codemirror_mode": {
    "name": "ipython",
    "version": 3
   },
   "file_extension": ".py",
   "mimetype": "text/x-python",
   "name": "python",
   "nbconvert_exporter": "python",
   "pygments_lexer": "ipython3",
   "version": "3.10.6"
  }
 },
 "nbformat": 4,
 "nbformat_minor": 5
}
