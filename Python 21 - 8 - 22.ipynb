{
 "cells": [
  {
   "cell_type": "code",
   "execution_count": 4,
   "id": "3f9adc89",
   "metadata": {},
   "outputs": [
    {
     "name": "stdout",
     "output_type": "stream",
     "text": [
      "Hello welocme edyoda How did you find the class\n"
     ]
    }
   ],
   "source": [
    "greeting = \"Hello welocme edyoda\"\n",
    "query = \"How did you find the class\"\n",
    "print(greeting,query)"
   ]
  },
  {
   "cell_type": "code",
   "execution_count": 5,
   "id": "05a809c7",
   "metadata": {},
   "outputs": [
    {
     "name": "stdout",
     "output_type": "stream",
     "text": [
      "Hello welocme edyoda\n",
      "How did you find the class\n"
     ]
    }
   ],
   "source": [
    "greeting = \"Hello welocme edyoda\"\n",
    "query = \"How did you find the class\"\n",
    "print(greeting)\n",
    "print (query)"
   ]
  },
  {
   "cell_type": "code",
   "execution_count": 6,
   "id": "b6535ea5",
   "metadata": {},
   "outputs": [
    {
     "name": "stdout",
     "output_type": "stream",
     "text": [
      "Hello welocme edyoda How did you find the class\n"
     ]
    }
   ],
   "source": [
    "greeting = \"Hello welocme edyoda\"\n",
    "query = \"How did you find the class\"\n",
    "print(greeting,end= \" \")\n",
    "print (query)"
   ]
  },
  {
   "cell_type": "code",
   "execution_count": 7,
   "id": "5a0561f6",
   "metadata": {},
   "outputs": [],
   "source": [
    "#not going to next line , added the space and continued to the next line "
   ]
  },
  {
   "cell_type": "code",
   "execution_count": 2,
   "id": "9b7e75fd",
   "metadata": {},
   "outputs": [
    {
     "name": "stdout",
     "output_type": "stream",
     "text": [
      " Enter your name :Shubham\n",
      "Hello Shubham\n"
     ]
    }
   ],
   "source": [
    "x = input(\" Enter your name :\" )\n",
    "print (\"Hello \"+ x)"
   ]
  },
  {
   "cell_type": "code",
   "execution_count": 3,
   "id": "ed5ed5af",
   "metadata": {},
   "outputs": [
    {
     "name": "stdout",
     "output_type": "stream",
     "text": [
      "Raj\n"
     ]
    }
   ],
   "source": [
    "name = input ()"
   ]
  },
  {
   "cell_type": "code",
   "execution_count": 4,
   "id": "c6f57031",
   "metadata": {},
   "outputs": [
    {
     "name": "stdout",
     "output_type": "stream",
     "text": [
      "Raj\n"
     ]
    }
   ],
   "source": [
    "print (name)"
   ]
  },
  {
   "cell_type": "code",
   "execution_count": 5,
   "id": "b99e3de5",
   "metadata": {},
   "outputs": [
    {
     "name": "stdout",
     "output_type": "stream",
     "text": [
      "<class 'str'>\n"
     ]
    }
   ],
   "source": [
    "print(type(name))"
   ]
  },
  {
   "cell_type": "code",
   "execution_count": 6,
   "id": "37aea40f",
   "metadata": {},
   "outputs": [],
   "source": [
    "#.split ---> split string to list \n",
    "#default separtor is whitespace else you can use comma \n"
   ]
  },
  {
   "cell_type": "code",
   "execution_count": 8,
   "id": "e3250390",
   "metadata": {},
   "outputs": [
    {
     "name": "stdout",
     "output_type": "stream",
     "text": [
      "['Hello', 'my', 'name', 'is', 'Shub,', 'How', 'are', 'you', 'doing', 'today']\n"
     ]
    }
   ],
   "source": [
    "my_string = \"Hello my name is Shub How are you doing today\"\n",
    "my_string_new = my_string.split()\n",
    "print (my_string_new)"
   ]
  },
  {
   "cell_type": "code",
   "execution_count": 9,
   "id": "51710499",
   "metadata": {},
   "outputs": [],
   "source": [
    "#in above example there were 10 spaces , so whenever ther is a space present  it will reconize it as a delimiter\n"
   ]
  },
  {
   "cell_type": "code",
   "execution_count": 13,
   "id": "3dd4fee4",
   "metadata": {},
   "outputs": [
    {
     "name": "stdout",
     "output_type": "stream",
     "text": [
      "['Hello', 'my', 'name', 'is', 'Shub', 'how', 'are', 'you', 'doing', 'today']\n"
     ]
    }
   ],
   "source": [
    "my_string = \"Hello,my,name,is,Shub,how,are,you,doing,today\"\n",
    "my_string_new = my_string.split(\",\") #here we defined the split as comma, earlier it was space \n",
    "print (my_string_new)"
   ]
  },
  {
   "cell_type": "code",
   "execution_count": 14,
   "id": "2b5e2b54",
   "metadata": {},
   "outputs": [
    {
     "name": "stdout",
     "output_type": "stream",
     "text": [
      "HellomynameisShubhowareyoudoingtoday\n"
     ]
    }
   ],
   "source": [
    "#Join Function\n",
    "greeting_list = ['Hello', 'my', 'name', 'is', 'Shub', 'how', 'are', 'you', 'doing', 'today']\n",
    "greeting_list_new = \"\".join(greeting_list)\n",
    "print(greeting_list_new)"
   ]
  },
  {
   "cell_type": "code",
   "execution_count": 15,
   "id": "233b6004",
   "metadata": {},
   "outputs": [
    {
     "name": "stdout",
     "output_type": "stream",
     "text": [
      "Hello my name is Shub how are you doing today\n"
     ]
    }
   ],
   "source": [
    "greeting_list = ['Hello', 'my', 'name', 'is', 'Shub', 'how', 'are', 'you', 'doing', 'today']\n",
    "greeting_list_new = \" \".join(greeting_list)\n",
    "print(greeting_list_new)"
   ]
  },
  {
   "cell_type": "code",
   "execution_count": 16,
   "id": "ab679b6a",
   "metadata": {},
   "outputs": [
    {
     "name": "stdout",
     "output_type": "stream",
     "text": [
      "Hello#my#name#is#Shub#how#are#you#doing#today\n"
     ]
    }
   ],
   "source": [
    "greeting_list_new = \"#\".join(greeting_list)\n",
    "print(greeting_list_new)"
   ]
  },
  {
   "cell_type": "code",
   "execution_count": 18,
   "id": "1e9405c5",
   "metadata": {},
   "outputs": [
    {
     "data": {
      "text/plain": [
       "17"
      ]
     },
     "execution_count": 18,
     "metadata": {},
     "output_type": "execute_result"
    }
   ],
   "source": [
    "my_string = \"Hello my name is Shub How are you doing today\"\n",
    "my_string.find(\"S\")"
   ]
  },
  {
   "cell_type": "code",
   "execution_count": 19,
   "id": "58ad1d52",
   "metadata": {},
   "outputs": [
    {
     "data": {
      "text/plain": [
       "-1"
      ]
     },
     "execution_count": 19,
     "metadata": {},
     "output_type": "execute_result"
    }
   ],
   "source": [
    "my_string = \"Hello my name is Shub How are you doing today\"\n",
    "my_string.find(\"R\")\n",
    "#-1 CAUSE CHEARETER R DOES NOT EXIST IN THE STEING "
   ]
  },
  {
   "cell_type": "code",
   "execution_count": 21,
   "id": "aa2eb148",
   "metadata": {},
   "outputs": [
    {
     "data": {
      "text/plain": [
       "23"
      ]
     },
     "execution_count": 21,
     "metadata": {},
     "output_type": "execute_result"
    }
   ],
   "source": [
    "#WE CAN GIVE A SPECIFIED PART TO FIND \n",
    "\n",
    "my_string.find(\"o\",17 , 35)"
   ]
  },
  {
   "cell_type": "code",
   "execution_count": 22,
   "id": "e3f81ab5",
   "metadata": {},
   "outputs": [
    {
     "data": {
      "text/plain": [
       "3"
      ]
     },
     "execution_count": 22,
     "metadata": {},
     "output_type": "execute_result"
    }
   ],
   "source": [
    "my_string = \"Raj is a student of Edyoda B batch. Raj love coding in python. Raj has created a python script to print a table\"\n",
    "my_string.count('Raj')"
   ]
  },
  {
   "cell_type": "code",
   "execution_count": 23,
   "id": "9d76a0d9",
   "metadata": {},
   "outputs": [],
   "source": [
    "my_string = \"Hello,my,name,is,Shub,how,are,you,doing,today\""
   ]
  },
  {
   "cell_type": "code",
   "execution_count": 25,
   "id": "b3a9d1be",
   "metadata": {},
   "outputs": [
    {
     "data": {
      "text/plain": [
       "'Hello my name is Shub how are you doing today'"
      ]
     },
     "execution_count": 25,
     "metadata": {},
     "output_type": "execute_result"
    }
   ],
   "source": [
    "my_string.replace(\",\" , \" \")"
   ]
  },
  {
   "cell_type": "code",
   "execution_count": 28,
   "id": "2ac6f3ae",
   "metadata": {},
   "outputs": [
    {
     "data": {
      "text/plain": [
       "True"
      ]
     },
     "execution_count": 28,
     "metadata": {},
     "output_type": "execute_result"
    }
   ],
   "source": [
    "my_string = \"my name is raj\"\n",
    "my_string.islower()"
   ]
  },
  {
   "cell_type": "code",
   "execution_count": 29,
   "id": "32ff08a6",
   "metadata": {},
   "outputs": [
    {
     "data": {
      "text/plain": [
       "False"
      ]
     },
     "execution_count": 29,
     "metadata": {},
     "output_type": "execute_result"
    }
   ],
   "source": [
    "my_string = \"my name is raj\"\n",
    "my_string.isupper()"
   ]
  },
  {
   "cell_type": "code",
   "execution_count": 30,
   "id": "42278e00",
   "metadata": {},
   "outputs": [
    {
     "data": {
      "text/plain": [
       "'MY NAME IS RAJ'"
      ]
     },
     "execution_count": 30,
     "metadata": {},
     "output_type": "execute_result"
    }
   ],
   "source": [
    "my_string = \"my name is raj\"\n",
    "my_string.upper()"
   ]
  },
  {
   "cell_type": "code",
   "execution_count": 31,
   "id": "80ba04ae",
   "metadata": {},
   "outputs": [
    {
     "data": {
      "text/plain": [
       "'my name is raj'"
      ]
     },
     "execution_count": 31,
     "metadata": {},
     "output_type": "execute_result"
    }
   ],
   "source": [
    "my_string = \"my name is raj\"\n",
    "my_string.lower()"
   ]
  },
  {
   "cell_type": "code",
   "execution_count": 38,
   "id": "473de046",
   "metadata": {},
   "outputs": [
    {
     "data": {
      "text/plain": [
       "True"
      ]
     },
     "execution_count": 38,
     "metadata": {},
     "output_type": "execute_result"
    }
   ],
   "source": [
    "x = \"Edyoda\"\n",
    "x.istitle()\n"
   ]
  },
  {
   "cell_type": "code",
   "execution_count": 39,
   "id": "959d6322",
   "metadata": {},
   "outputs": [
    {
     "data": {
      "text/plain": [
       "False"
      ]
     },
     "execution_count": 39,
     "metadata": {},
     "output_type": "execute_result"
    }
   ],
   "source": [
    "y = \"edyoda\"\n",
    "y.istitle()\n"
   ]
  },
  {
   "cell_type": "code",
   "execution_count": 40,
   "id": "5aef6b33",
   "metadata": {},
   "outputs": [
    {
     "data": {
      "text/plain": [
       "'Edyoda'"
      ]
     },
     "execution_count": 40,
     "metadata": {},
     "output_type": "execute_result"
    }
   ],
   "source": [
    "y = \"edyoda\"\n",
    "y.title()\n"
   ]
  },
  {
   "cell_type": "code",
   "execution_count": 42,
   "id": "0f281516",
   "metadata": {},
   "outputs": [
    {
     "name": "stdout",
     "output_type": "stream",
     "text": [
      "adoydE"
     ]
    }
   ],
   "source": [
    "my_str = \"Edyoda\"\n",
    "for i in range(len(my_str)):\n",
    "    print(my_str[len(my_str) -i -1], end = \"\")\n",
    "    "
   ]
  },
  {
   "cell_type": "code",
   "execution_count": 44,
   "id": "3afc10da",
   "metadata": {},
   "outputs": [],
   "source": [
    "for i in range(len(my_str)-1,-1,1):\n",
    "    print(my_str[i],end = \"\")\n",
    "    "
   ]
  },
  {
   "cell_type": "code",
   "execution_count": 45,
   "id": "d1696717",
   "metadata": {},
   "outputs": [
    {
     "name": "stdout",
     "output_type": "stream",
     "text": [
      "adoydE"
     ]
    }
   ],
   "source": [
    "my_str = \"Edyoda\"\n",
    "for i in range(len(my_str)):\n",
    "    print(my_str[len(my_str) -i -1], end = \"\")"
   ]
  },
  {
   "cell_type": "code",
   "execution_count": 49,
   "id": "bd156dd3",
   "metadata": {},
   "outputs": [
    {
     "name": "stdout",
     "output_type": "stream",
     "text": [
      "a d o y d E "
     ]
    }
   ],
   "source": [
    "my_str = \"Edyoda\"\n",
    "for i in range(len(my_str)-1,-1,-1):\n",
    "    print(my_str[i],end =' ')"
   ]
  },
  {
   "cell_type": "code",
   "execution_count": 48,
   "id": "47951012",
   "metadata": {},
   "outputs": [
    {
     "name": "stdout",
     "output_type": "stream",
     "text": [
      "Hello\n"
     ]
    }
   ],
   "source": [
    "print ('Hello')"
   ]
  },
  {
   "cell_type": "code",
   "execution_count": 51,
   "id": "2a9caf8e",
   "metadata": {},
   "outputs": [
    {
     "name": "stdout",
     "output_type": "stream",
     "text": [
      "a d o y d E "
     ]
    }
   ],
   "source": [
    "my_str = \"Edyoda\"\n",
    "for i in range(len(my_str)-1,-1,-1):\n",
    "    print(my_str[i],end =' ')"
   ]
  },
  {
   "cell_type": "code",
   "execution_count": 55,
   "id": "002c098e",
   "metadata": {},
   "outputs": [
    {
     "name": "stdout",
     "output_type": "stream",
     "text": [
      " adoydE\n"
     ]
    }
   ],
   "source": [
    "my_str = \"Edyoda\"\n",
    "rev_str = \" \"\n",
    "for i in range(len(my_str)-1,-1,-1):\n",
    "    rev_str = rev_str + my_str[i]\n",
    "print (rev_str)"
   ]
  },
  {
   "cell_type": "code",
   "execution_count": 56,
   "id": "35282971",
   "metadata": {},
   "outputs": [],
   "source": [
    "#Palindrome\n",
    "\n",
    "my_str = \"123321\"\n",
    "rev_str = \" \"\n",
    "for i in range(len(my_str)-1,-1,-1):\n",
    "    rev_str = rev_str + my_str[i]"
   ]
  },
  {
   "cell_type": "code",
   "execution_count": null,
   "id": "30e2f782",
   "metadata": {},
   "outputs": [],
   "source": [
    "print()"
   ]
  }
 ],
 "metadata": {
  "kernelspec": {
   "display_name": "Python 3 (ipykernel)",
   "language": "python",
   "name": "python3"
  },
  "language_info": {
   "codemirror_mode": {
    "name": "ipython",
    "version": 3
   },
   "file_extension": ".py",
   "mimetype": "text/x-python",
   "name": "python",
   "nbconvert_exporter": "python",
   "pygments_lexer": "ipython3",
   "version": "3.10.6"
  }
 },
 "nbformat": 4,
 "nbformat_minor": 5
}
