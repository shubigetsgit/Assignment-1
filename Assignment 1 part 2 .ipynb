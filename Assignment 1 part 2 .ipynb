{
 "cells": [
  {
   "cell_type": "code",
   "execution_count": 1,
   "id": "5c50eaaf",
   "metadata": {},
   "outputs": [],
   "source": [
    "#Assignment 1 part 2 "
   ]
  },
  {
   "cell_type": "code",
   "execution_count": 2,
   "id": "c3976520",
   "metadata": {},
   "outputs": [
    {
     "name": "stdout",
     "output_type": "stream",
     "text": [
      "adoydE"
     ]
    }
   ],
   "source": [
    "str1 = \"Edyoda\"\n",
    "for i in range(len(str1)-1,-1,-1):\n",
    "    print(str1[i],end ='')"
   ]
  },
  {
   "cell_type": "code",
   "execution_count": null,
   "id": "86afd743",
   "metadata": {},
   "outputs": [],
   "source": []
  }
 ],
 "metadata": {
  "kernelspec": {
   "display_name": "Python 3 (ipykernel)",
   "language": "python",
   "name": "python3"
  },
  "language_info": {
   "codemirror_mode": {
    "name": "ipython",
    "version": 3
   },
   "file_extension": ".py",
   "mimetype": "text/x-python",
   "name": "python",
   "nbconvert_exporter": "python",
   "pygments_lexer": "ipython3",
   "version": "3.10.6"
  }
 },
 "nbformat": 4,
 "nbformat_minor": 5
}
